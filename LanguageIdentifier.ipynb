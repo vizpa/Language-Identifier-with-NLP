{
 "cells": [
  {
   "cell_type": "markdown",
   "metadata": {},
   "source": [
    "### Language Identifier with NLP"
   ]
  },
  {
   "cell_type": "markdown",
   "metadata": {},
   "source": [
    "Paola Vizcarra"
   ]
  },
  {
   "cell_type": "markdown",
   "metadata": {},
   "source": [
    "#### Use NLTK to build a model that analyzes sentences in different languages and determines which language is being used."
   ]
  },
  {
   "cell_type": "markdown",
   "metadata": {},
   "source": [
    "1. There are 2 input files _data.csv_ and _labels.csv_ from [source](https://www.kaggle.com/sharansmenon/wili-2018).\n",
    "<br>WiLI-2018, the Wikipedia language identification benchmark dataset, contains 235000 paragraphs of 235 languages.<br>\n",
    "Each language in this dataset contains 1000 rows/paragraphs. \n",
    "- In the data.csv file there are 235,000 rows (235 unique values) and 2 columns, containing paragraphs in the different languages and the abbreviation identifier for the language used.\n",
    "- The labels.csv file contains 235 rows/unique values and 9 columns, containing the label/abbreviation, its corresponding language and 7 other identifiers."
   ]
  },
  {
   "cell_type": "markdown",
   "metadata": {},
   "source": [
    "#### Tokenizing Asian text \n",
    "\n",
    "Languages like Chinese and Japanese contains continuous stream of characters with no explicit separators, one way to tokenize and use segmentation in these texts is to use Half-overlapping bi n-grams. In order to preserve some words, it is necessary to overlap symbols to create constructs that will help match the right bi n-grams. <br>\n",
    "This estimation shows to be highly effective. <br>\n",
    "[source](https://www.youtube.com/watch?v=HYwKGZIvvb4)"
   ]
  },
  {
   "cell_type": "code",
   "execution_count": 7,
   "metadata": {},
   "outputs": [],
   "source": [
    "import pandas as pd\n",
    "import matplotlib.pyplot as plt\n",
    "%matplotlib inline\n",
    "from sklearn.model_selection import train_test_split\n",
    "from sklearn.naive_bayes import MultinomialNB\n",
    "from sklearn import metrics\n",
    "from sklearn.metrics import f1_score\n",
    "from sklearn.metrics import plot_confusion_matrix\n",
    "import nltk\n",
    "from nltk import bigrams"
   ]
  },
  {
   "cell_type": "markdown",
   "metadata": {},
   "source": [
    "1a. Read data from data.csv into a DataFrame.<br>\n",
    "Print the size of the DataFrame and the first few lines of data."
   ]
  },
  {
   "cell_type": "code",
   "execution_count": 8,
   "metadata": {},
   "outputs": [
    {
     "name": "stdout",
     "output_type": "stream",
     "text": [
      "(235000, 2)\n"
     ]
    },
    {
     "data": {
      "text/html": [
       "<div>\n",
       "<style scoped>\n",
       "    .dataframe tbody tr th:only-of-type {\n",
       "        vertical-align: middle;\n",
       "    }\n",
       "\n",
       "    .dataframe tbody tr th {\n",
       "        vertical-align: top;\n",
       "    }\n",
       "\n",
       "    .dataframe thead th {\n",
       "        text-align: right;\n",
       "    }\n",
       "</style>\n",
       "<table border=\"1\" class=\"dataframe\">\n",
       "  <thead>\n",
       "    <tr style=\"text-align: right;\">\n",
       "      <th></th>\n",
       "      <th>text</th>\n",
       "      <th>class</th>\n",
       "    </tr>\n",
       "  </thead>\n",
       "  <tbody>\n",
       "    <tr>\n",
       "      <th>0</th>\n",
       "      <td>Klement Gottwaldi surnukeha palsameeriti ning ...</td>\n",
       "      <td>est\\n</td>\n",
       "    </tr>\n",
       "    <tr>\n",
       "      <th>1</th>\n",
       "      <td>Sebes, Joseph; Pereira Thomas (1961) (på eng)....</td>\n",
       "      <td>swe\\n</td>\n",
       "    </tr>\n",
       "    <tr>\n",
       "      <th>2</th>\n",
       "      <td>भारतीय स्वातन्त्र्य आन्दोलन राष्ट्रीय एवम क्षे...</td>\n",
       "      <td>mai\\n</td>\n",
       "    </tr>\n",
       "    <tr>\n",
       "      <th>3</th>\n",
       "      <td>Après lo cort periòde d'establiment a Basilèa,...</td>\n",
       "      <td>oci\\n</td>\n",
       "    </tr>\n",
       "    <tr>\n",
       "      <th>4</th>\n",
       "      <td>ถนนเจริญกรุง (อักษรโรมัน: Thanon Charoen Krung...</td>\n",
       "      <td>tha\\n</td>\n",
       "    </tr>\n",
       "  </tbody>\n",
       "</table>\n",
       "</div>"
      ],
      "text/plain": [
       "                                                text  class\n",
       "0  Klement Gottwaldi surnukeha palsameeriti ning ...  est\\n\n",
       "1  Sebes, Joseph; Pereira Thomas (1961) (på eng)....  swe\\n\n",
       "2  भारतीय स्वातन्त्र्य आन्दोलन राष्ट्रीय एवम क्षे...  mai\\n\n",
       "3  Après lo cort periòde d'establiment a Basilèa,...  oci\\n\n",
       "4  ถนนเจริญกรุง (อักษรโรมัน: Thanon Charoen Krung...  tha\\n"
      ]
     },
     "execution_count": 8,
     "metadata": {},
     "output_type": "execute_result"
    }
   ],
   "source": [
    "data = pd.read_csv('data.csv', encoding=\"utf-8\")\n",
    "print(data.shape)\n",
    "data.head()"
   ]
  },
  {
   "cell_type": "markdown",
   "metadata": {},
   "source": [
    "1b. Read data from labels.csv into a DataFrame.<br>\n",
    "Print the size of the DataFrame and the first few lines of data."
   ]
  },
  {
   "cell_type": "code",
   "execution_count": 9,
   "metadata": {},
   "outputs": [
    {
     "name": "stdout",
     "output_type": "stream",
     "text": [
      "(235, 9)\n"
     ]
    },
    {
     "data": {
      "text/html": [
       "<div>\n",
       "<style scoped>\n",
       "    .dataframe tbody tr th:only-of-type {\n",
       "        vertical-align: middle;\n",
       "    }\n",
       "\n",
       "    .dataframe tbody tr th {\n",
       "        vertical-align: top;\n",
       "    }\n",
       "\n",
       "    .dataframe thead th {\n",
       "        text-align: right;\n",
       "    }\n",
       "</style>\n",
       "<table border=\"1\" class=\"dataframe\">\n",
       "  <thead>\n",
       "    <tr style=\"text-align: right;\">\n",
       "      <th></th>\n",
       "      <th>Label</th>\n",
       "      <th>English</th>\n",
       "      <th>Wiki Code</th>\n",
       "      <th>ISO 369-3</th>\n",
       "      <th>German</th>\n",
       "      <th>Language family</th>\n",
       "      <th>Writing system</th>\n",
       "      <th>Remarks</th>\n",
       "      <th>Synonyms</th>\n",
       "    </tr>\n",
       "  </thead>\n",
       "  <tbody>\n",
       "    <tr>\n",
       "      <th>0</th>\n",
       "      <td>ace</td>\n",
       "      <td>Achinese</td>\n",
       "      <td>ace</td>\n",
       "      <td>ace</td>\n",
       "      <td>Achinesisch</td>\n",
       "      <td>Austronesian</td>\n",
       "      <td>NaN</td>\n",
       "      <td>NaN</td>\n",
       "      <td>NaN</td>\n",
       "    </tr>\n",
       "    <tr>\n",
       "      <th>1</th>\n",
       "      <td>afr</td>\n",
       "      <td>Afrikaans</td>\n",
       "      <td>af</td>\n",
       "      <td>afr</td>\n",
       "      <td>Afrikaans</td>\n",
       "      <td>Indo-European</td>\n",
       "      <td>NaN</td>\n",
       "      <td>NaN</td>\n",
       "      <td>NaN</td>\n",
       "    </tr>\n",
       "    <tr>\n",
       "      <th>2</th>\n",
       "      <td>als</td>\n",
       "      <td>Alemannic German</td>\n",
       "      <td>als</td>\n",
       "      <td>gsw</td>\n",
       "      <td>Alemannisch</td>\n",
       "      <td>Indo-European</td>\n",
       "      <td>NaN</td>\n",
       "      <td>(ursprünglich nur Elsässisch)</td>\n",
       "      <td>NaN</td>\n",
       "    </tr>\n",
       "    <tr>\n",
       "      <th>3</th>\n",
       "      <td>amh</td>\n",
       "      <td>Amharic</td>\n",
       "      <td>am</td>\n",
       "      <td>amh</td>\n",
       "      <td>Amharisch</td>\n",
       "      <td>Afro-Asiatic</td>\n",
       "      <td>NaN</td>\n",
       "      <td>NaN</td>\n",
       "      <td>NaN</td>\n",
       "    </tr>\n",
       "    <tr>\n",
       "      <th>4</th>\n",
       "      <td>ang</td>\n",
       "      <td>Old English</td>\n",
       "      <td>ang</td>\n",
       "      <td>ang</td>\n",
       "      <td>Altenglisch</td>\n",
       "      <td>Indo-European</td>\n",
       "      <td>NaN</td>\n",
       "      <td>(ca. 450-1100)</td>\n",
       "      <td>Angelsächsisch</td>\n",
       "    </tr>\n",
       "  </tbody>\n",
       "</table>\n",
       "</div>"
      ],
      "text/plain": [
       "  Label           English Wiki Code ISO 369-3       German Language family  \\\n",
       "0   ace          Achinese       ace       ace  Achinesisch    Austronesian   \n",
       "1   afr         Afrikaans        af       afr    Afrikaans   Indo-European   \n",
       "2   als  Alemannic German       als       gsw  Alemannisch   Indo-European   \n",
       "3   amh           Amharic        am       amh    Amharisch    Afro-Asiatic   \n",
       "4   ang      Old English        ang       ang  Altenglisch   Indo-European   \n",
       "\n",
       "  Writing system                        Remarks        Synonyms  \n",
       "0            NaN                            NaN             NaN  \n",
       "1            NaN                            NaN             NaN  \n",
       "2            NaN  (ursprünglich nur Elsässisch)             NaN  \n",
       "3            NaN                            NaN             NaN  \n",
       "4            NaN                 (ca. 450-1100)  Angelsächsisch  "
      ]
     },
     "execution_count": 9,
     "metadata": {},
     "output_type": "execute_result"
    }
   ],
   "source": [
    "labels = pd.read_csv('labels.csv',sep=';')\n",
    "print(labels.shape)\n",
    "labels.head()"
   ]
  },
  {
   "cell_type": "markdown",
   "metadata": {},
   "source": [
    "1c. First clean the label (remove '/n') in the class column in the data DataFrame.<br>\n",
    "Then, replace the label for its correspondent language."
   ]
  },
  {
   "cell_type": "code",
   "execution_count": 10,
   "metadata": {},
   "outputs": [
    {
     "name": "stdout",
     "output_type": "stream",
     "text": [
      "(235000, 2)\n"
     ]
    },
    {
     "data": {
      "text/html": [
       "<div>\n",
       "<style scoped>\n",
       "    .dataframe tbody tr th:only-of-type {\n",
       "        vertical-align: middle;\n",
       "    }\n",
       "\n",
       "    .dataframe tbody tr th {\n",
       "        vertical-align: top;\n",
       "    }\n",
       "\n",
       "    .dataframe thead th {\n",
       "        text-align: right;\n",
       "    }\n",
       "</style>\n",
       "<table border=\"1\" class=\"dataframe\">\n",
       "  <thead>\n",
       "    <tr style=\"text-align: right;\">\n",
       "      <th></th>\n",
       "      <th>text</th>\n",
       "      <th>class</th>\n",
       "    </tr>\n",
       "  </thead>\n",
       "  <tbody>\n",
       "    <tr>\n",
       "      <th>0</th>\n",
       "      <td>Klement Gottwaldi surnukeha palsameeriti ning ...</td>\n",
       "      <td>Estonian</td>\n",
       "    </tr>\n",
       "    <tr>\n",
       "      <th>1</th>\n",
       "      <td>Sebes, Joseph; Pereira Thomas (1961) (på eng)....</td>\n",
       "      <td>Swedish</td>\n",
       "    </tr>\n",
       "    <tr>\n",
       "      <th>2</th>\n",
       "      <td>भारतीय स्वातन्त्र्य आन्दोलन राष्ट्रीय एवम क्षे...</td>\n",
       "      <td>Maithili</td>\n",
       "    </tr>\n",
       "    <tr>\n",
       "      <th>3</th>\n",
       "      <td>Après lo cort periòde d'establiment a Basilèa,...</td>\n",
       "      <td>Occitan</td>\n",
       "    </tr>\n",
       "    <tr>\n",
       "      <th>4</th>\n",
       "      <td>ถนนเจริญกรุง (อักษรโรมัน: Thanon Charoen Krung...</td>\n",
       "      <td>Thai</td>\n",
       "    </tr>\n",
       "  </tbody>\n",
       "</table>\n",
       "</div>"
      ],
      "text/plain": [
       "                                                text     class\n",
       "0  Klement Gottwaldi surnukeha palsameeriti ning ...  Estonian\n",
       "1  Sebes, Joseph; Pereira Thomas (1961) (på eng)....   Swedish\n",
       "2  भारतीय स्वातन्त्र्य आन्दोलन राष्ट्रीय एवम क्षे...  Maithili\n",
       "3  Après lo cort periòde d'establiment a Basilèa,...   Occitan\n",
       "4  ถนนเจริญกรุง (อักษรโรมัน: Thanon Charoen Krung...      Thai"
      ]
     },
     "execution_count": 10,
     "metadata": {},
     "output_type": "execute_result"
    }
   ],
   "source": [
    "data['class'] = data['class'].str.extract('([A-Za-z-]+)',expand=False)\n",
    "\n",
    "data[\"class\"] = [''.join(labels.loc[labels['Label'] == \n",
    "                                    text, 'English'].values) \n",
    "                 for text in data[\"class\"]]\n",
    "print(data.shape)\n",
    "data.head()"
   ]
  },
  {
   "cell_type": "markdown",
   "metadata": {},
   "source": [
    "1d. List all the languages found in the DataFrame."
   ]
  },
  {
   "cell_type": "code",
   "execution_count": 11,
   "metadata": {
    "scrolled": true
   },
   "outputs": [
    {
     "data": {
      "text/plain": [
       "array(['Estonian', 'Swedish', 'Maithili', 'Occitan', 'Thai', 'Oromo',\n",
       "       'Limburgan', 'Gujarati', 'Western Panjabi', 'Zeeuws',\n",
       "       'Karachay-Balkar', 'Haitian Creole', 'Picard', 'Tamil',\n",
       "       'Vietnamese', 'Panjabi', 'Silesian', 'Central Kurdish', 'Friulian',\n",
       "       'Wu Chinese', 'Egyptian Arabic', 'Tongan', 'Basque', 'Banyumasan',\n",
       "       'Gilaki', 'Dutch', 'Tibetan', 'Japanese', 'Aragonese', 'Sardinian',\n",
       "       'Extremaduran', 'Sinhala', 'Kurdish', 'Chechen', 'Turkmen',\n",
       "       'Pangasinan', 'Turkish', 'Alemannic German', 'Komi-Permyak',\n",
       "       'Latin', 'Urdu', 'Tatar', 'Buryat', 'Indonesian', 'Kirghiz',\n",
       "       'Cantonese', 'Danish', 'Portuguese', 'French', 'Oriya', 'Bokmål',\n",
       "       'Lojban', 'Konkani', 'Amharic', 'Central Khmer', 'Serbo-Croatian',\n",
       "       'Slovene', 'Bosnian', 'Tetum', 'Standard Chinese', 'Korean',\n",
       "       'Yakut', 'Aromanian', 'Asturian', 'Wolof', 'Bulgarian',\n",
       "       'Scottish Gaelic', 'Malay', 'Crimean Tatar', 'Luganda',\n",
       "       'Sundanese', 'Breton', 'Mongolian', 'Nepali (macrolanguage)',\n",
       "       'Igbo', 'Min Dong', 'Assamese', 'Guarani', 'Hindi', 'Marathi',\n",
       "       'Lingala', 'Interlingue', 'Lombard', 'Burmese', 'Iloko',\n",
       "       'Kashubian', 'Tuvan', 'Irish', '', 'Jamaican Patois', 'Sicilian',\n",
       "       'Belarusian (Taraschkewiza)', 'Dimli', 'Cornish', 'Faroese',\n",
       "       'Malagasy', 'Yiddish', 'Northern Sami', 'Spanish', 'Kabardian',\n",
       "       'Udmurt', 'Icelandic', 'Ripuarisch', 'Sanskrit', 'Azerbaijani',\n",
       "       'Neapolitan', 'Lower Sorbian', 'Pampanga', 'Welsh', 'Serbian',\n",
       "       'Saterfriesisch', 'Telugu', 'Swahili (macrolanguage)', 'Vlaams',\n",
       "       'Mazanderani', 'Belarusian', 'Ladino', 'Interlingua', 'Avar',\n",
       "       'Lao', 'Minangkabau', 'Italian', 'West Low German', 'Ossetian',\n",
       "       'Kabyle', 'Pushto', 'Finnish', 'Sindhi', 'Karakalpak', 'Persian',\n",
       "       'Chavacano', 'Catalan', 'Classical Nahuatl', 'Eastern Mari',\n",
       "       'Tarantino dialect', 'Arpitan', 'Romanian', 'Newari', 'Bavarian',\n",
       "       'Latgalian', 'Võro', 'Latvian', 'Czech', 'Yoruba',\n",
       "       'Northern Sotho', 'Bashkir', 'Russian', 'Achinese', 'Moksha',\n",
       "       'Veps', 'Samogitian', 'Uighur', 'Lithuanian', 'Albanian', 'Somali',\n",
       "       'Slovak', 'Scots', 'Ukrainian', 'Maori', 'Croatian', 'Volapük',\n",
       "       'English', 'Manx', 'Bengali', 'Ido', 'Javanese', 'Tulu',\n",
       "       'Western Mari', 'Fiji Hindi', 'Shona', 'Waray', 'Maltese',\n",
       "       'Emilian', 'Tswana', 'Lezghian', 'Hakka Chinese', 'Komi',\n",
       "       'South Azerbaijani', 'Quechua', 'Literary Chinese', 'Arabic',\n",
       "       'Western Frisian', 'Doteli', 'Malayalam', 'Hebrew', 'Gagauz',\n",
       "       'Chuvash', 'Afrikaans', 'Papiamento', 'Kinyarwanda',\n",
       "       'Old English ', 'Kazakh', 'Banjar', 'Armenian', 'Livvi-Karelian',\n",
       "       'Mingrelian', 'Uzbek', 'Central Bikol', 'Pennsylvania German',\n",
       "       'Upper Sorbian', 'Sranan', 'Georgian', 'Tagalog',\n",
       "       'Norwegian Nynorsk', 'Galician', 'Romansh', 'Kannada', 'Cherokee',\n",
       "       'Northern Luri', 'Dhivehi', 'Erzya', 'Corsican', 'Hungarian',\n",
       "       'Narom', 'Palatine German', 'Walloon', 'Bhojpuri', 'Esperanto',\n",
       "       'German', 'Navajo', 'Mirandese', 'Polish', 'Rusyn', 'Venetian',\n",
       "       'Low German', 'Aymara', 'Tajik', 'Cebuano', 'Xhosa', 'Bishnupriya',\n",
       "       'Modern Greek', 'Ligurian', 'Hausa', 'Macedonian', 'Luxembourgish'],\n",
       "      dtype=object)"
      ]
     },
     "execution_count": 11,
     "metadata": {},
     "output_type": "execute_result"
    }
   ],
   "source": [
    "data[\"class\"].unique()"
   ]
  },
  {
   "cell_type": "markdown",
   "metadata": {},
   "source": [
    "1e. Use the DataFrame to develop a Language Identifier for 25 different languages.<br>\n",
    "Select the languages to be used on the Language Identifier.\n"
   ]
  },
  {
   "cell_type": "code",
   "execution_count": 12,
   "metadata": {},
   "outputs": [
    {
     "data": {
      "text/plain": [
       "25"
      ]
     },
     "execution_count": 12,
     "metadata": {},
     "output_type": "execute_result"
    }
   ],
   "source": [
    "lang = ['Arabic', 'Bulgarian', 'Standard Chinese', 'Dutch', 'English', \n",
    "        'Estonian', 'French', 'German', 'Hebrew', 'Hindi', \n",
    "        'Indonesian', 'Italian', 'Japanese', 'Korean', 'Latin', \n",
    "        'Persian', 'Polish', 'Portuguese', 'Romanian', 'Russian', \n",
    "        'Spanish', 'Swedish', 'Thai', 'Turkish', 'Vietnamese']\n",
    "len(lang)"
   ]
  },
  {
   "cell_type": "markdown",
   "metadata": {},
   "source": [
    "1f. Using the selected languages, filter the DataFrame."
   ]
  },
  {
   "cell_type": "code",
   "execution_count": 13,
   "metadata": {},
   "outputs": [
    {
     "name": "stdout",
     "output_type": "stream",
     "text": [
      "(25000, 2)\n"
     ]
    },
    {
     "data": {
      "text/html": [
       "<div>\n",
       "<style scoped>\n",
       "    .dataframe tbody tr th:only-of-type {\n",
       "        vertical-align: middle;\n",
       "    }\n",
       "\n",
       "    .dataframe tbody tr th {\n",
       "        vertical-align: top;\n",
       "    }\n",
       "\n",
       "    .dataframe thead th {\n",
       "        text-align: right;\n",
       "    }\n",
       "</style>\n",
       "<table border=\"1\" class=\"dataframe\">\n",
       "  <thead>\n",
       "    <tr style=\"text-align: right;\">\n",
       "      <th></th>\n",
       "      <th>text</th>\n",
       "      <th>class</th>\n",
       "    </tr>\n",
       "  </thead>\n",
       "  <tbody>\n",
       "    <tr>\n",
       "      <th>0</th>\n",
       "      <td>Klement Gottwaldi surnukeha palsameeriti ning ...</td>\n",
       "      <td>Estonian</td>\n",
       "    </tr>\n",
       "    <tr>\n",
       "      <th>1</th>\n",
       "      <td>Sebes, Joseph; Pereira Thomas (1961) (på eng)....</td>\n",
       "      <td>Swedish</td>\n",
       "    </tr>\n",
       "    <tr>\n",
       "      <th>2</th>\n",
       "      <td>ถนนเจริญกรุง (อักษรโรมัน: Thanon Charoen Krung...</td>\n",
       "      <td>Thai</td>\n",
       "    </tr>\n",
       "    <tr>\n",
       "      <th>3</th>\n",
       "      <td>Bùi Tiến Dũng (sinh năm 1959 tại huyện Ứng Hòa...</td>\n",
       "      <td>Vietnamese</td>\n",
       "    </tr>\n",
       "    <tr>\n",
       "      <th>4</th>\n",
       "      <td>De spons behoort tot het geslacht Haliclona en...</td>\n",
       "      <td>Dutch</td>\n",
       "    </tr>\n",
       "    <tr>\n",
       "      <th>5</th>\n",
       "      <td>エノが行きがかりでバスに乗ってしまい、気分が悪くなった際に助けるが、今すぐバスを降りたいと運...</td>\n",
       "      <td>Japanese</td>\n",
       "    </tr>\n",
       "  </tbody>\n",
       "</table>\n",
       "</div>"
      ],
      "text/plain": [
       "                                                text       class\n",
       "0  Klement Gottwaldi surnukeha palsameeriti ning ...    Estonian\n",
       "1  Sebes, Joseph; Pereira Thomas (1961) (på eng)....     Swedish\n",
       "2  ถนนเจริญกรุง (อักษรโรมัน: Thanon Charoen Krung...        Thai\n",
       "3  Bùi Tiến Dũng (sinh năm 1959 tại huyện Ứng Hòa...  Vietnamese\n",
       "4  De spons behoort tot het geslacht Haliclona en...       Dutch\n",
       "5  エノが行きがかりでバスに乗ってしまい、気分が悪くなった際に助けるが、今すぐバスを降りたいと運...    Japanese"
      ]
     },
     "execution_count": 13,
     "metadata": {},
     "output_type": "execute_result"
    }
   ],
   "source": [
    "data = pd.DataFrame(data[data['class'].isin(lang)])\n",
    "data.reset_index(drop=True, inplace=True) # reset the index value\n",
    "print(data.shape)\n",
    "data.head(6)"
   ]
  },
  {
   "cell_type": "markdown",
   "metadata": {},
   "source": [
    "1g. Rename languages as needed, keep one word ('Standard Chinese' becomes 'Chinese')."
   ]
  },
  {
   "cell_type": "code",
   "execution_count": 14,
   "metadata": {},
   "outputs": [
    {
     "data": {
      "text/html": [
       "<div>\n",
       "<style scoped>\n",
       "    .dataframe tbody tr th:only-of-type {\n",
       "        vertical-align: middle;\n",
       "    }\n",
       "\n",
       "    .dataframe tbody tr th {\n",
       "        vertical-align: top;\n",
       "    }\n",
       "\n",
       "    .dataframe thead th {\n",
       "        text-align: right;\n",
       "    }\n",
       "</style>\n",
       "<table border=\"1\" class=\"dataframe\">\n",
       "  <thead>\n",
       "    <tr style=\"text-align: right;\">\n",
       "      <th></th>\n",
       "      <th>text</th>\n",
       "      <th>class</th>\n",
       "    </tr>\n",
       "  </thead>\n",
       "  <tbody>\n",
       "    <tr>\n",
       "      <th>18049</th>\n",
       "      <td>アルゴリズムは極めて単純である。最初の段階では、各ノードは直近のノードがどれかという情報と、...</td>\n",
       "      <td>Japanese</td>\n",
       "    </tr>\n",
       "    <tr>\n",
       "      <th>24982</th>\n",
       "      <td>Le village est une station familiale de sports...</td>\n",
       "      <td>French</td>\n",
       "    </tr>\n",
       "    <tr>\n",
       "      <th>4411</th>\n",
       "      <td>Letak dan posisi yang strategis telah mampu me...</td>\n",
       "      <td>Indonesian</td>\n",
       "    </tr>\n",
       "    <tr>\n",
       "      <th>11741</th>\n",
       "      <td>\"Sinise granaatkivi mõistatus\" (inglise keeles...</td>\n",
       "      <td>Estonian</td>\n",
       "    </tr>\n",
       "    <tr>\n",
       "      <th>3180</th>\n",
       "      <td>En 1984 entró en la prestigiosa escuela Royal ...</td>\n",
       "      <td>Spanish</td>\n",
       "    </tr>\n",
       "  </tbody>\n",
       "</table>\n",
       "</div>"
      ],
      "text/plain": [
       "                                                    text       class\n",
       "18049  アルゴリズムは極めて単純である。最初の段階では、各ノードは直近のノードがどれかという情報と、...    Japanese\n",
       "24982  Le village est une station familiale de sports...      French\n",
       "4411   Letak dan posisi yang strategis telah mampu me...  Indonesian\n",
       "11741  \"Sinise granaatkivi mõistatus\" (inglise keeles...    Estonian\n",
       "3180   En 1984 entró en la prestigiosa escuela Royal ...     Spanish"
      ]
     },
     "execution_count": 14,
     "metadata": {},
     "output_type": "execute_result"
    }
   ],
   "source": [
    "data['class'] = data['class'].str.extract('([A-Za-z]*$)',expand=False) \n",
    "data.sample(n=5)"
   ]
  },
  {
   "cell_type": "markdown",
   "metadata": {},
   "source": [
    "1h. Check amount of samples per language."
   ]
  },
  {
   "cell_type": "code",
   "execution_count": 15,
   "metadata": {},
   "outputs": [
    {
     "data": {
      "text/plain": [
       "Text(0, 0.5, 'Samples per Language')"
      ]
     },
     "execution_count": 15,
     "metadata": {},
     "output_type": "execute_result"
    },
    {
     "data": {
      "image/png": "[encoded data removed]",
      "text/plain": [
       "<Figure size 432x288 with 1 Axes>"
      ]
     },
     "metadata": {
      "needs_background": "light"
     },
     "output_type": "display_data"
    }
   ],
   "source": [
    "plt.bar(data['class'].unique(),data.groupby('class').size(),\n",
    "       color=['#555E7B', '#B7D968', '#B576AD', '#E04644',\n",
    "               '#FF9C00', '#FDE47F', '#7CCCE5'])\n",
    "plt.xticks(rotation=80)\n",
    "plt.xlabel(\"Languages\")\n",
    "plt.ylabel(\"Samples per Language\")"
   ]
  },
  {
   "cell_type": "markdown",
   "metadata": {},
   "source": [
    "1i. Create the y variable from the DataFrame.\n",
    "<br>Print the size of y."
   ]
  },
  {
   "cell_type": "code",
   "execution_count": 16,
   "metadata": {},
   "outputs": [
    {
     "name": "stdout",
     "output_type": "stream",
     "text": [
      "(25000,)\n"
     ]
    },
    {
     "data": {
      "text/plain": [
       "0      Estonian\n",
       "1       Swedish\n",
       "2          Thai\n",
       "3    Vietnamese\n",
       "4         Dutch\n",
       "Name: class, dtype: object"
      ]
     },
     "execution_count": 16,
     "metadata": {},
     "output_type": "execute_result"
    }
   ],
   "source": [
    "y = data['class']\n",
    "print(y.shape)\n",
    "y.head()"
   ]
  },
  {
   "cell_type": "markdown",
   "metadata": {},
   "source": [
    "1j. Create the X variable from the DataFrame.\n",
    "<br>Print the size of X and the first few lines of x."
   ]
  },
  {
   "cell_type": "code",
   "execution_count": 17,
   "metadata": {},
   "outputs": [
    {
     "name": "stdout",
     "output_type": "stream",
     "text": [
      "(25000, 1)\n"
     ]
    },
    {
     "data": {
      "text/html": [
       "<div>\n",
       "<style scoped>\n",
       "    .dataframe tbody tr th:only-of-type {\n",
       "        vertical-align: middle;\n",
       "    }\n",
       "\n",
       "    .dataframe tbody tr th {\n",
       "        vertical-align: top;\n",
       "    }\n",
       "\n",
       "    .dataframe thead th {\n",
       "        text-align: right;\n",
       "    }\n",
       "</style>\n",
       "<table border=\"1\" class=\"dataframe\">\n",
       "  <thead>\n",
       "    <tr style=\"text-align: right;\">\n",
       "      <th></th>\n",
       "      <th>text</th>\n",
       "    </tr>\n",
       "  </thead>\n",
       "  <tbody>\n",
       "    <tr>\n",
       "      <th>0</th>\n",
       "      <td>Klement Gottwaldi surnukeha palsameeriti ning ...</td>\n",
       "    </tr>\n",
       "    <tr>\n",
       "      <th>1</th>\n",
       "      <td>Sebes, Joseph; Pereira Thomas (1961) (på eng)....</td>\n",
       "    </tr>\n",
       "    <tr>\n",
       "      <th>2</th>\n",
       "      <td>ถนนเจริญกรุง (อักษรโรมัน: Thanon Charoen Krung...</td>\n",
       "    </tr>\n",
       "    <tr>\n",
       "      <th>3</th>\n",
       "      <td>Bùi Tiến Dũng (sinh năm 1959 tại huyện Ứng Hòa...</td>\n",
       "    </tr>\n",
       "    <tr>\n",
       "      <th>4</th>\n",
       "      <td>De spons behoort tot het geslacht Haliclona en...</td>\n",
       "    </tr>\n",
       "  </tbody>\n",
       "</table>\n",
       "</div>"
      ],
      "text/plain": [
       "                                                text\n",
       "0  Klement Gottwaldi surnukeha palsameeriti ning ...\n",
       "1  Sebes, Joseph; Pereira Thomas (1961) (på eng)....\n",
       "2  ถนนเจริญกรุง (อักษรโรมัน: Thanon Charoen Krung...\n",
       "3  Bùi Tiến Dũng (sinh năm 1959 tại huyện Ứng Hòa...\n",
       "4  De spons behoort tot het geslacht Haliclona en..."
      ]
     },
     "execution_count": 17,
     "metadata": {},
     "output_type": "execute_result"
    }
   ],
   "source": [
    "X = data.drop(columns=['class'])\n",
    "print(X.shape)\n",
    "X.head()"
   ]
  },
  {
   "cell_type": "markdown",
   "metadata": {},
   "source": [
    "1k. Find the indexes of Chinese and Japanese sentences in the DataFrame.<br>\n",
    "Print the first indexes on each."
   ]
  },
  {
   "cell_type": "code",
   "execution_count": 19,
   "metadata": {},
   "outputs": [
    {
     "name": "stdout",
     "output_type": "stream",
     "text": [
      "[12, 120, 131, 164, 262]\n",
      "[5, 8, 34, 47, 86]\n"
     ]
    }
   ],
   "source": [
    "chnLang = data.index[data['class'] == \"Chinese\"].tolist()\n",
    "japLang = data.index[data['class'] == \"Japanese\"].tolist()\n",
    "print(chnLang[0:5])\n",
    "print(japLang[0:5])"
   ]
  },
  {
   "cell_type": "markdown",
   "metadata": {},
   "source": [
    "1l. Continue the pre-processing step by:\n",
    "- remove all numbers and underscores<br>(every language has its own characters so we won't just keep a to Z)\n",
    "- lowercase all words<br>\n",
    "\n",
    "Modify the segmentation for Chinese and Japanese.<br>\n",
    "Print the resulting X variable."
   ]
  },
  {
   "cell_type": "code",
   "execution_count": 20,
   "metadata": {},
   "outputs": [
    {
     "name": "stdout",
     "output_type": "stream",
     "text": [
      "                                                   0\n",
      "0  klement gottwaldi surnukeha palsameeriti ning ...\n",
      "1  sebes, joseph; pereira thomas    på eng . the ...\n",
      "2  ถนนเจริญกรุง  อักษรโรมัน: thanon charoen krung...\n",
      "3  bùi tiến dũng  sinh năm   tại huyện ứng hòa tỉ...\n",
      "4  de spons behoort tot het geslacht haliclona en...\n",
      "5  エノ ノが が行 行き きが がか かり りで でバ バス スに に乗 乗っ って てし し...\n",
      "(25000, 1)\n"
     ]
    }
   ],
   "source": [
    "from nltk.tokenize import RegexpTokenizer \n",
    "tokenizer = RegexpTokenizer('[^_(\\n)\\d]+')\n",
    "# to preserve grammar in different languages,\n",
    "# only numbers, underscore and new line are removed\n",
    "# Since every language has different rules, stemming won't be applied\n",
    "\n",
    "X_Prs = pd.DataFrame({0: X.text})\n",
    "\n",
    "for i in range(len(X)):\n",
    "    # Remove all numbers, lowercase all words\n",
    "    X_Prs[0][i] = tokenizer.tokenize(X_Prs[0][i].lower())\n",
    "    # join back into sentence\n",
    "    X_Prs[0][i] = ' '.join(X_Prs[0][i])\n",
    "    # if sentence index in list of chinese or japanese languages\n",
    "    # Segmentate in Half-overlapping bi n-grams\n",
    "    if (X_Prs.index[i] in chnLang) | (X_Prs.index[i] in japLang):\n",
    "        X_Prs[0][i] = bigrams(X_Prs[0][i])\n",
    "        X_Prs[0][i] = ' '.join(''.join(grams) for grams in X_Prs[0][i])\n",
    "\n",
    "print(X_Prs.head(6))\n",
    "print(X_Prs.shape)"
   ]
  },
  {
   "cell_type": "markdown",
   "metadata": {},
   "source": [
    "1m. Convert the strings in X to vectors of numbers.<br>\n",
    "Show the size of the vectors."
   ]
  },
  {
   "cell_type": "code",
   "execution_count": 21,
   "metadata": {},
   "outputs": [
    {
     "name": "stdout",
     "output_type": "stream",
     "text": [
      "  (0, 139)\t1\n",
      "  (0, 156)\t2\n",
      "  (0, 2622)\t1\n",
      "  (0, 54734)\t1\n",
      "  (0, 54735)\t1\n",
      "  (0, 54736)\t1\n",
      "  (0, 57284)\t1\n",
      "  (0, 57857)\t1\n",
      "  (0, 59400)\t1\n",
      "  (0, 62381)\t1\n",
      "  (0, 66990)\t2\n",
      "  (0, 69605)\t2\n",
      "  (0, 72640)\t1\n",
      "  (0, 74848)\t1\n",
      "  (0, 77077)\t1\n",
      "  (0, 79525)\t1\n",
      "  (0, 79866)\t2\n",
      "  (0, 84865)\t1\n",
      "  (0, 84866)\t1\n",
      "  (0, 94729)\t2\n",
      "  (0, 94789)\t2\n",
      "  (0, 96685)\t1\n",
      "  (0, 98170)\t1\n",
      "  (0, 100284)\t1\n",
      "  (0, 101335)\t1\n",
      "  (0, 101599)\t1\n",
      "  (0, 101600)\t1\n",
      "  (0, 134686)\t3\n",
      "  (0, 136558)\t1\n",
      "  (0, 143578)\t1\n",
      "  (0, 145314)\t1\n",
      "  (0, 150486)\t1\n",
      "  (0, 158711)\t1\n",
      "  (0, 158742)\t1\n",
      "  (0, 159593)\t1\n"
     ]
    },
    {
     "data": {
      "text/plain": [
       "(25000, 400691)"
      ]
     },
     "execution_count": 21,
     "metadata": {},
     "output_type": "execute_result"
    }
   ],
   "source": [
    "from sklearn.feature_extraction.text import CountVectorizer\n",
    "\n",
    "vect = CountVectorizer()\n",
    "vect.fit(X_Prs[0])\n",
    "X_vectors = vect.transform(X_Prs[0])\n",
    "print(X_vectors[0])\n",
    "X_vectors.shape"
   ]
  },
  {
   "cell_type": "markdown",
   "metadata": {},
   "source": [
    "1n. Split the dataset into training and testing sets. <br>\n",
    "Show the size of the sets."
   ]
  },
  {
   "cell_type": "code",
   "execution_count": 22,
   "metadata": {},
   "outputs": [
    {
     "name": "stdout",
     "output_type": "stream",
     "text": [
      "(17500, 400691) (17500,) (7500, 400691) (7500,)\n"
     ]
    }
   ],
   "source": [
    "X_train, X_test, y_train, y_test = train_test_split(X_vectors,y,test_size=0.3)\n",
    "print(X_train.shape, y_train.shape, X_test.shape, y_test.shape)"
   ]
  },
  {
   "cell_type": "markdown",
   "metadata": {},
   "source": [
    "1o. Use the Multinomial Naive Bayes model to train, then test the model."
   ]
  },
  {
   "cell_type": "code",
   "execution_count": 23,
   "metadata": {},
   "outputs": [
    {
     "data": {
      "text/plain": [
       "array(['Hindi', 'Dutch', 'Italian', ..., 'Vietnamese', 'Russian',\n",
       "       'Persian'], dtype='<U10')"
      ]
     },
     "execution_count": 23,
     "metadata": {},
     "output_type": "execute_result"
    }
   ],
   "source": [
    "classifier = MultinomialNB()\n",
    "classifier.fit(X_train, y_train)\n",
    "y_pred = classifier.predict(X_test)\n",
    "y_pred"
   ]
  },
  {
   "cell_type": "markdown",
   "metadata": {},
   "source": [
    "1p. Show the accuracy of the model by displaying the accuracy score, confusion matrix, and F1 score."
   ]
  },
  {
   "cell_type": "code",
   "execution_count": 25,
   "metadata": {},
   "outputs": [
    {
     "name": "stdout",
     "output_type": "stream",
     "text": [
      "Accuracy: \n",
      " 0.9776 \n",
      "\n",
      "F1 weighted: \n",
      " 0.9784713048879731 \n",
      "\n",
      "F1 per language:\n",
      " ['Arabic F1: 1.0', 'Bulgarian F1: 0.9756097560975608', 'Chinese F1: 0.9917081260364843', 'Dutch F1: 0.9804560260586319', 'English F1: 0.8452722063037249', 'Estonian F1: 0.970684039087948', 'French F1: 0.9598662207357859', 'German F1: 0.9603960396039605', 'Hebrew F1: 0.998158379373849', 'Hindi F1: 0.9965986394557823', 'Indonesian F1: 0.9896551724137931', 'Italian F1: 0.9947460595446586', 'Japanese F1: 0.9921259842519685', 'Korean F1: 0.982638888888889', 'Latin F1: 0.9350237717908082', 'Persian F1: 0.9985528219971056', 'Polish F1: 0.9896193771626297', 'Portuguese F1: 0.9608540925266904', 'Romanian F1: 0.9953051643192489', 'Russian F1: 0.9929824561403509', 'Spanish F1: 0.9889763779527558', 'Swedish F1: 0.9964285714285714', 'Thai F1: 0.9899665551839464', 'Turkish F1: 0.9868852459016394', 'Vietnamese F1: 0.9908592321755028']\n",
      "\n",
      "Confusion Matrix:\n"
     ]
    },
    {
     "data": {
      "image/png": "[encoded data removed]",
      "text/plain": [
       "<Figure size 864x864 with 2 Axes>"
      ]
     },
     "metadata": {
      "needs_background": "light"
     },
     "output_type": "display_data"
    }
   ],
   "source": [
    "# accuracy\n",
    "print(\"Accuracy: \\n\", metrics.accuracy_score(y_test, y_pred), \"\\n\")\n",
    "\n",
    "# F1\n",
    "print(\"F1 weighted: \\n\", f1_score(y_test, y_pred, average='weighted'), '\\n')\n",
    "\n",
    "F1score = f1_score(y_test, y_pred, average=None)  # gives a better visualization per language\n",
    "langs = sorted(y.unique())\n",
    "print(\"F1 per language:\\n\",['{} F1: {}'.format(langs[i], F1score[i]) \n",
    "                            for i in range(len(F1score))])\n",
    "\n",
    "# Confusion Matrix \n",
    "print(\"\\nConfusion Matrix:\")\n",
    "fig, ax = plt.subplots(figsize=(12, 12))\n",
    "plot_confusion_matrix(classifier, X_test, y_test, cmap=plt.cm.Oranges, ax=ax)\n",
    "ax.tick_params(axis='x', rotation=80)"
   ]
  },
  {
   "cell_type": "markdown",
   "metadata": {},
   "source": [
    "Both, the confusion matrix and F1 score per language show Chinese and Japanese predictions are highly assertive. <br>\n",
    "Overall, predictions are balanced."
   ]
  },
  {
   "cell_type": "markdown",
   "metadata": {},
   "source": [
    "1q. Testing other sentences."
   ]
  },
  {
   "cell_type": "code",
   "execution_count": 28,
   "metadata": {},
   "outputs": [
    {
     "data": {
      "text/plain": [
       "array(['Spanish', 'French', 'English', 'Chinese', 'Japanese', 'Turkish',\n",
       "       'Arabic', 'Swedish'], dtype='<U10')"
      ]
     },
     "execution_count": 28,
     "metadata": {},
     "output_type": "execute_result"
    }
   ],
   "source": [
    "senTest = [\n",
    "    \"con motivo de la celebración del aniversario\",     # Spanish\n",
    "    \"je suis ravi de vous rencontrer\",                  # French\n",
    "    \"i am not very sure of that\",                       # English\n",
    "    \"你想要些什么\",                                       # Chinese\n",
    "    \"おはようございます。\",                                # Japanese\n",
    "    \"Yepyeni bir başlangıç…\",                           # Turkish\n",
    "    \"من فضلك واحد بيرة.\",                               # Arabic\n",
    "    \"vad trevligt att träffas\"]                         # Swedish\n",
    "\n",
    "from nltk.tokenize.util import is_cjk\n",
    "# segmentate sentence if chinese, japanese or korean characters are found\n",
    "\n",
    "for index in range(len(senTest)):\n",
    "    isCJ = [1 if is_cjk(ch) else 0 for ch in senTest[index]]\n",
    "    if 1 in isCJ:     \n",
    "        text = bigrams(senTest[index])\n",
    "        senTest[index] = ' '.join(''.join(grams) for grams in text)\n",
    "\n",
    "senTest_vectors = vect.transform(senTest)\n",
    "y_pred = classifier.predict(senTest_vectors)\n",
    "y_pred"
   ]
  },
  {
   "cell_type": "markdown",
   "metadata": {},
   "source": [
    "Percentage of accurate predictions is high."
   ]
  },
  {
   "cell_type": "markdown",
   "metadata": {},
   "source": [
    "1r. Let user enter a text string and have the model predict the language."
   ]
  },
  {
   "cell_type": "code",
   "execution_count": 27,
   "metadata": {},
   "outputs": [
    {
     "name": "stdout",
     "output_type": "stream",
     "text": [
      "Test the Language Identifier, \n",
      "Enter some text and then \"Press Enter\" to see the result.\n",
      "Text to identify: Güneşin batışını seyrediyorum.\n",
      "\n",
      "You entered: Güneşin batışını seyrediyorum.\n",
      "Language identified as: Turkish\n"
     ]
    }
   ],
   "source": [
    "print('Test the Language Identifier, \\n'+\n",
    "      'Enter some text and then \"Press Enter\" to see the result.')\n",
    "sentence = input(\"Text to identify: \")\n",
    "textIn = sentence\n",
    "\n",
    "# segmentate sentence if chinese, japanese or korean characters are found\n",
    "isCJ = [1 if is_cjk(ch) else 0 for ch in sentence]\n",
    "if 1 in isCJ:\n",
    "    text = bigrams(sentence)\n",
    "    sentence = ' '.join(''.join(grams) for grams in text)\n",
    "\n",
    "sentenceTest_vectors = vect.transform([sentence])\n",
    "y_pred = classifier.predict(sentenceTest_vectors)\n",
    "print('\\nYou entered:', textIn)\n",
    "print('Language identified as:', *y_pred)"
   ]
  },
  {
   "cell_type": "markdown",
   "metadata": {},
   "source": [
    "***"
   ]
  },
  {
   "cell_type": "markdown",
   "metadata": {},
   "source": [
    "### Output and conclusion"
   ]
  },
  {
   "cell_type": "markdown",
   "metadata": {},
   "source": [
    "In order to build a highly effective Language Identifier, languages have to be tokenized according to their writing system (Some writing systems don't use spaces or use spaces between syllables instead of between words, others use suffixes in a complete different way than English does).<br>\n",
    "Some methods, like Half-overlapping bi n-grams show to be very effective for languages like Chinese and Japanese. But, the more diverse the languages in the identifier, the greater the need for a custom tokenizer and steammer for each language. Different languages need different approaches."
   ]
  },
  {
   "cell_type": "code",
   "execution_count": null,
   "metadata": {},
   "outputs": [],
   "source": []
  }
 ],
 "metadata": {
  "kernelspec": {
   "display_name": "Python 3",
   "language": "python",
   "name": "python3"
  },
  "language_info": {
   "codemirror_mode": {
    "name": "ipython",
    "version": 3
   },
   "file_extension": ".py",
   "mimetype": "text/x-python",
   "name": "python",
   "nbconvert_exporter": "python",
   "pygments_lexer": "ipython3",
   "version": "3.8.5"
  }
 },
 "nbformat": 4,
 "nbformat_minor": 1
}
